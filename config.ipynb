{
 "cells": [
  {
   "cell_type": "code",
   "execution_count": 1,
   "metadata": {},
   "outputs": [],
   "source": [
    "artists = [\"cigarettes after sex\", \"eric clapton\", \"damien rice\", \"dire straits\", \\\n",
    "           \"the black keys\", \"Eminem\", \"Porcupine tree\", \"Northlane\", \\\n",
    "           \"incubus\", \"radiohead\"]"
   ]
  },
  {
   "cell_type": "code",
   "execution_count": null,
   "metadata": {},
   "outputs": [],
   "source": [
    "\n",
    "'''\n",
    "artists = [\"cigarettes after sex\", \"eric clapton\", \"damien rice\", \"dire straits\", \\\n",
    "           \"the black keys\", \"Eminem\", \"Porcupine tree\", \"Northlane\", \\\n",
    "           \"incubus\", \"radiohead\"]\n",
    "def get_lyrics(url):\n",
    "    request = urllib2.Request(url)\n",
    "    request.add_header(\"Authorization\", \"Bearer\" + client-access-token)\n",
    "    request.add_header(\"User-Agent\", \"curl/7.9.8 (i686-pc-linux-gnu) libcurl 7.9.8 (OpenSSL 0.9.6b) (ipv6 enabled)\")\n",
    "    page = urllib2.urlopen(request)\n",
    "    soup = BeautifulSoup(page,\"lxml\")\n",
    "    \n",
    "    lyrics = soup.find(\"div\", class_= \"lyrics\")\n",
    "    return lyrics.text\n",
    "\n",
    "for artist in artists:\n",
    "    a = search(artist, outputfilename, client_access_token)\n",
    "    urls = map(lambda t: t[3], a)\n",
    "    f = open('lyrics/' + artist, 'wb')\n",
    "    for url in urls:\n",
    "        lyrics = get_lyrics(url)\n",
    "        f.write(lyrics.encode(\"utf8\"))\n",
    "    f.close()\n",
    "    '''"
   ]
  }
 ],
 "metadata": {
  "kernelspec": {
   "display_name": "Python 3",
   "language": "python",
   "name": "python3"
  },
  "language_info": {
   "codemirror_mode": {
    "name": "ipython",
    "version": 3
   },
   "file_extension": ".py",
   "mimetype": "text/x-python",
   "name": "python",
   "nbconvert_exporter": "python",
   "pygments_lexer": "ipython3",
   "version": "3.6.3"
  }
 },
 "nbformat": 4,
 "nbformat_minor": 2
}
